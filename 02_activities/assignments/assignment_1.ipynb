{
 "cells": [
  {
   "cell_type": "markdown",
   "metadata": {},
   "source": [
    "# Coding Problems\n",
    "\n",
    "## Objective\n",
    "\n",
    "This assignment aims to demonstrate how to study a data structures or algorithms question in depth to prepare for an industry coding interview. Leetcode is a popular coding practice site that many use to practice for technical interviews. Like behavioral interviews, it's important to practice and keep your skills sharp.\n",
    "\n",
    "## Group Size\n",
    "\n",
    "Please complete this individually.\n",
    "\n",
    "## Part 1:\n",
    "\n",
    "_*You will be assigned one of three problems based of your first name. Execute the code below, and that will tell you your assigned problem. Include the output as part of your submission (do not clear the output). The problems are based-off problems from Leetcode.*_\n"
   ]
  },
  {
   "cell_type": "code",
   "execution_count": 1,
   "metadata": {},
   "outputs": [
    {
     "name": "stdout",
     "output_type": "stream",
     "text": [
      "2\n"
     ]
    }
   ],
   "source": [
    "print((hash('Iona') % 3) + 1)"
   ]
  },
  {
   "cell_type": "markdown",
   "metadata": {},
   "source": [
    "<details>\n",
    "  <summary>Question 2</summary>\n",
    "\n",
    "  # Question Two: Path to Leaves\n",
    "\n",
    "  Given the `root` of a binary tree, return all root to leaf paths in any order.\n",
    "\n",
    "  ## Examples\n",
    "\n",
    "  ### Example 1\n",
    "\n",
    "  ![](./images/q1_ex1.png)\n",
    "\n",
    "  Input: `root = [1, 2, 2, 3, 5, 6, 7]` *What traversal method is this?*\n",
    "\n",
    "  Output: [[1, 2, 3], [1, 2, 5], [1, 2, 6], [1, 2, 7]]\n",
    "\n",
    "  ### Example 2\n",
    "\n",
    "  ![](./images/q1_ex3.png)\n",
    "\n",
    "  Input: `root = [10, 9, 7, 8]`\n",
    "\n",
    "  Output: [[10, 7], [10, 9, 8]]\n",
    "\n",
    "</details>\n",
    "\n",
    "#### Starter Code for Question 2"
   ]
  },
  {
   "cell_type": "code",
   "execution_count": 42,
   "metadata": {},
   "outputs": [
    {
     "name": "stdout",
     "output_type": "stream",
     "text": [
      "Paths for example 1 [[1, 2, 3], [1, 2, 5], [1, 2, 6], [1, 2, 7]]\n",
      "Paths for example 2 [[10, 9, 8], [10, 7]]\n"
     ]
    },
    {
     "data": {
      "text/plain": [
       "[[10, 7], [10, 9, 8]]"
      ]
     },
     "execution_count": 42,
     "metadata": {},
     "output_type": "execute_result"
    }
   ],
   "source": [
    "# Definition for a binary tree node.\n",
    "# class TreeNode(object):\n",
    "#     def __init__(self, val = 0, left = None, right = None):\n",
    "#         self.val = val\n",
    "#         self.left = left\n",
    "#         self.right = right\n",
    "\n",
    "from typing import List\n",
    "\n",
    "def bt_path(root: TreeNode) -> List[List[int]]:\n",
    "    def dfs(node, path, result):\n",
    "      if not node:\n",
    "        return\n",
    "    \n",
    "      path.append(node.val)   # add node to path\n",
    "\n",
    "      if not node.left and not node.right:\n",
    "        result.append(list(path))\n",
    "    \n",
    "      else:\n",
    "        dfs(node.left,path, result)\n",
    "        dfs(node.right, path, result)\n",
    "\n",
    "      path.pop()\n",
    "\n",
    "    result = []\n",
    "    dfs(root, [], result)\n",
    "    return result\n",
    "\n",
    "\n",
    "# Test 1\n",
    "root1 = create_tree([1, 2, 2, 3, 5, 6, 7])    # example 1\n",
    "print(\"Paths for example 1\", bt_path(root1))\n",
    "\n",
    "# Expected ouptut\n",
    "[\n",
    "  [1, 2, 3],\n",
    "  [1, 2, 5],\n",
    "  [1, 2, 6],\n",
    "  [1, 2, 7]\n",
    "]\n",
    "\n",
    "# Test 2\n",
    "root2 = create_tree([10, 9, 7, 8])    # example 2\n",
    "print(\"Paths for example 2\", bt_path(root2))\n",
    "\n",
    "# Expected output\n",
    "[\n",
    "  [10, 7],\n",
    "  [10, 9, 8]\n",
    "]\n"
   ]
  },
  {
   "cell_type": "markdown",
   "metadata": {},
   "source": [
    "\n",
    "## Part 2:\n",
    "\n",
    "-   Paraphrase the problem in your own words\n"
   ]
  },
  {
   "cell_type": "code",
   "execution_count": 52,
   "metadata": {},
   "outputs": [],
   "source": [
    "# Question 2: Find all possible paths from the top to the bottom (root to leaves). "
   ]
  },
  {
   "cell_type": "markdown",
   "metadata": {},
   "source": [
    "- In this .ipynb file, there are examples that illustrate how the code should work (the examples provided above). Create 2 new examples for the question you have been assigned, that demonstrate you understand the problem. For question 1 and 2, you don't need to create the tree demonstration, just the input and output.\n"
   ]
  },
  {
   "cell_type": "code",
   "execution_count": 53,
   "metadata": {},
   "outputs": [],
   "source": [
    "# Example 1 (Find the path(s))\n",
    "# Input: [1, 2, 3, none, 5, 6]\n",
    "# Output: [[1 -> 2 -> 5] and [1 -> 3 -> 6]]\n",
    "\n",
    "# Example 2 (Find the path(s))\n",
    "# Input: [7, 4, 9, 3]\n",
    "# Output: [[7 -> 4 -> 3] and [7 -> 9]]"
   ]
  },
  {
   "cell_type": "markdown",
   "metadata": {},
   "source": [
    "\n",
    "-   Code the solution to your assigned problem in Python (code chunk). Try to find the best time and space complexity solution!\n"
   ]
  },
  {
   "cell_type": "code",
   "execution_count": 60,
   "metadata": {},
   "outputs": [
    {
     "name": "stdout",
     "output_type": "stream",
     "text": [
      "Paths for Example 1: [[1, 2, 3], [1, 2, 5], [1, 2, 6], [1, 2, 7]]\n",
      "Paths for Example 2: [[10, 9, 8], [10, 7]]\n"
     ]
    }
   ],
   "source": [
    "class TreeNode:\n",
    "    def __init__(self, val=0, left=None, right=None):\n",
    "        self.val = val\n",
    "        self.left = left\n",
    "        self.right = right\n",
    "\n",
    "def bt_path(root: TreeNode) -> List[List[int]]:\n",
    "    def dfs(node, path, result):\n",
    "        if not node:\n",
    "            return\n",
    "        \n",
    "        # Add the current node's value to the path\n",
    "        path.append(node.val)\n",
    "        \n",
    "        # If leaf node, add to the result\n",
    "        if not node.left and not node.right:\n",
    "            result.append(path[:])      # Use slicing to copy the path\n",
    "        else:\n",
    "            # Recurse on left and right children\n",
    "            dfs(node.left, path, result)\n",
    "            dfs(node.right, path, result)\n",
    "        \n",
    "        # Backtrack to explore other paths\n",
    "        path.pop()\n",
    "\n",
    "    result = []\n",
    "    dfs(root, [], result)\n",
    "    return result\n",
    "\n",
    "# Test\n",
    "def create_tree(values):\n",
    "    if not values:\n",
    "        return None\n",
    "    nodes = [TreeNode(val) if val is not None else None for val in values]\n",
    "    for i, node in enumerate(nodes):\n",
    "        if node:\n",
    "            left_index = 2 * i + 1\n",
    "            right_index = 2 * i + 2\n",
    "            if left_index < len(nodes):\n",
    "                node.left = nodes[left_index]\n",
    "            if right_index < len(nodes):\n",
    "                node.right = nodes[right_index]\n",
    "    return nodes[0]\n",
    "\n",
    "# Example 1\n",
    "root1 = create_tree([1, 2, 2, 3, 5, 6, 7])\n",
    "print(\"Paths for Example 1:\", bt_path(root1))   # Expected Output: [[1, 2, 3], [1, 2, 5], [1, 2, 6], [1, 2, 7]]\n",
    "\n",
    "# Example 2\n",
    "root2 = create_tree([10, 9, 7, 8])\n",
    "print(\"Paths for Example 2:\", bt_path(root2))   # Expected Output: [[10, 7], [10, 9, 8]]\n",
    "\n",
    "\n"
   ]
  },
  {
   "cell_type": "markdown",
   "metadata": {},
   "source": [
    "\n",
    "-   Explain why your solution works\n"
   ]
  },
  {
   "cell_type": "code",
   "execution_count": 61,
   "metadata": {},
   "outputs": [],
   "source": [
    "# It explores all paths from root to each bottom leaf\n",
    "# It remembers/saves the paths to a list\n",
    "# It backtrackes to ensure there's no overlap "
   ]
  },
  {
   "cell_type": "markdown",
   "metadata": {},
   "source": [
    "\n",
    "-   Explain the problem’s time and space complexity\n"
   ]
  },
  {
   "cell_type": "code",
   "execution_count": 62,
   "metadata": {},
   "outputs": [],
   "source": [
    "# Time complexity is O(n) \n",
    "# - code checks each node once, so time depends on number of nodes.\n",
    "# - if there's more nodes, it takes more time.\n",
    "\n",
    "# Space complexity is O(h) \n",
    "# - h = height of the tree.  \n",
    "# - the taller the tree, the more memory it uses"
   ]
  },
  {
   "cell_type": "markdown",
   "metadata": {},
   "source": [
    "\n",
    "-   Explain the thinking to an alternative solution (no coding required, but a classmate reading this should be able to code it up based off your text)\n"
   ]
  },
  {
   "cell_type": "code",
   "execution_count": 63,
   "metadata": {},
   "outputs": [],
   "source": [
    "# BFS - using a queue to explore the tree by each level\n",
    "# - it will track the path from root to node \n",
    "# - each leaf node with no children, that path will be added to the result\n",
    "\n",
    "# Start at the root \n",
    "# Identify the first node, and any children.  No = complete path.  Yes = continue path until no children\n",
    "# Repeat starting at the root until all nodes are accounted for \n",
    "#  "
   ]
  },
  {
   "cell_type": "markdown",
   "metadata": {},
   "source": [
    "## Evaluation Criteria\n",
    "\n",
    "-   Problem is accurately stated\n",
    "\n",
    "-   Two examples are correct and easily understandable\n",
    "\n",
    "-   Correctness, time, and space complexity of the coding solution\n",
    "\n",
    "-   Clarity in explaining why the solution works, its time and space complexity\n",
    "\n",
    "-   Clarity in the proposal to the alternative solution"
   ]
  },
  {
   "cell_type": "markdown",
   "metadata": {},
   "source": [
    "## Submission Information\n",
    "\n",
    "🚨 **Please review our [Assignment Submission Guide](https://github.com/UofT-DSI/onboarding/blob/main/onboarding_documents/submissions.md)** 🚨 for detailed instructions on how to format, branch, and submit your work. Following these guidelines is crucial for your submissions to be evaluated correctly.\n",
    "\n",
    "### Submission Parameters:\n",
    "* Submission Due Date: `HH:MM AM/PM - DD/MM/YYYY`\n",
    "* The branch name for your repo should be: `assignment-1`\n",
    "* What to submit for this assignment:\n",
    "    * This Jupyter Notebook (assignment_1.ipynb) should be populated and should be the only change in your pull request.\n",
    "* What the pull request link should look like for this assignment: `https://github.com/<your_github_username>/algorithms_and_data_structures/pull/<pr_id>`\n",
    "    * Open a private window in your browser. Copy and paste the link to your pull request into the address bar. Make sure you can see your pull request properly. This helps the technical facilitator and learning support staff review your submission easily.\n",
    "\n",
    "Checklist:\n",
    "- [ ] Create a branch called `assignment-1`.\n",
    "- [ ] Ensure that the repository is public.\n",
    "- [ ] Review [the PR description guidelines](https://github.com/UofT-DSI/onboarding/blob/main/onboarding_documents/submissions.md#guidelines-for-pull-request-descriptions) and adhere to them.\n",
    "- [ ] Verify that the link is accessible in a private browser window.\n",
    "\n",
    "If you encounter any difficulties or have questions, please don't hesitate to reach out to our team via our Slack at `#cohort-3-help`. Our Technical Facilitators and Learning Support staff are here to help you navigate any challenges."
   ]
  }
 ],
 "metadata": {
  "kernelspec": {
   "display_name": "dsi_participant",
   "language": "python",
   "name": "python3"
  },
  "language_info": {
   "codemirror_mode": {
    "name": "ipython",
    "version": 3
   },
   "file_extension": ".py",
   "mimetype": "text/x-python",
   "name": "python",
   "nbconvert_exporter": "python",
   "pygments_lexer": "ipython3",
   "version": "3.9.15"
  }
 },
 "nbformat": 4,
 "nbformat_minor": 2
}
