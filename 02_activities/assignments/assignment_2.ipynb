{
 "cells": [
  {
   "cell_type": "markdown",
   "metadata": {},
   "source": [
    "# Practice Interview\n",
    "\n",
    "## Objective\n",
    "\n",
    "_*The partner assignment aims to provide participants with the opportunity to practice coding in an interview context. You will analyze your partner's Assignment 1. Moreover, code reviews are common practice in a software development team. This assignment should give you a taste of the code review process.*_\n",
    "\n",
    "## Group Size\n",
    "\n",
    "Each group should have 2 people. You will be assigned a partner\n",
    "\n",
    "## Part 1:\n",
    "\n",
    "You and your partner must share each other's Assignment 1 submission."
   ]
  },
  {
   "cell_type": "markdown",
   "metadata": {},
   "source": [
    "\n",
    "## Part 2:\n",
    "\n",
    "Create a Jupyter Notebook, create 6 of the following headings, and complete the following for your partner's assignment 1:\n",
    "\n",
    "-   Paraphrase the problem in your own words.\n"
   ]
  },
  {
   "cell_type": "code",
   "execution_count": null,
   "metadata": {},
   "outputs": [],
   "source": [
    "# Partner's question was #3\n",
    "\n",
    "# Find the duplicates.  If there's a duplicate, return the value.\n",
    "# If there are multiple duplicates, return the duplicate closest to the root.\n",
    "# If there are no duplicates, return -1."
   ]
  },
  {
   "cell_type": "markdown",
   "metadata": {},
   "source": [
    "\n",
    "-   Create 1 new example that demonstrates you understand the problem. Trace/walkthrough 1 example that your partner made and explain it.\n"
   ]
  },
  {
   "cell_type": "code",
   "execution_count": null,
   "metadata": {},
   "outputs": [],
   "source": [
    "# Root = [5, 3, 4, 8, 3, 9, 6, 7]\n",
    "# Output = 3\n",
    "# The first # 3 is marked as 'seen', the second # 3 is considered the duplicate and is nearest to the root.\n",
    "\n",
    "\n",
    "# PARTNER EXAMPLE: \n",
    "# Root = [1, 2, 2, 3, 5, 6, 7]\n",
    "# Output = 2\n",
    "\n",
    "# The first # 2 will be marked as 'seen' and saved.  The second # 2 is the duplicate and nearest to the root.\n"
   ]
  },
  {
   "cell_type": "markdown",
   "metadata": {},
   "source": [
    "\n",
    "-   Copy the solution your partner wrote. \n"
   ]
  },
  {
   "cell_type": "code",
   "execution_count": null,
   "metadata": {},
   "outputs": [],
   "source": [
    "def missing_num(nums: list) -> list:\n",
    "    if not nums:  # case of an empty list\n",
    "        return -1\n",
    "    \n",
    "    max_val = max(nums)  # Determine the maximum value in the list\n",
    "    full_range = set(range(max_val + 1))  # Create the complete range [0, n]\n",
    "    nums_set = set(nums)  # Convert the list to a set to handle duplicates\n",
    "    \n",
    "    # Find missing numbers by subtracting the sets\n",
    "    missing = list(full_range - nums_set)\n",
    "    \n",
    "    return sorted(missing) if missing else -1  # Return sorted missing numbers or -1\n",
    "\n"
   ]
  },
  {
   "cell_type": "markdown",
   "metadata": {},
   "source": [
    "\n",
    "-   Explain why their solution works in your own words.\n"
   ]
  },
  {
   "cell_type": "code",
   "execution_count": null,
   "metadata": {},
   "outputs": [],
   "source": [
    "# Creating the full range and converting the nums to a set gets rid of the dupes and \n",
    "# makes it easer to identify the missing numbers by calculating \"full_range - nums_set\".\n",
    "\n",
    "# The missing numbers are sorted and returned.  Sorting is ideal, easy to verify results.\n",
    "# If no missing numbers, the return is -1.\n"
   ]
  },
  {
   "cell_type": "markdown",
   "metadata": {},
   "source": [
    "\n",
    "-   Explain the problem’s time and space complexity in your own words.\n"
   ]
  },
  {
   "cell_type": "code",
   "execution_count": null,
   "metadata": {},
   "outputs": [],
   "source": [
    "# Time Complexity O(n log n): depend on several tasks in this solution; \n",
    "        # - find the largest number (dependant on the size of the list)\n",
    "        # - creating the range \n",
    "        # - converting the list to a set (to handle dupes)\n",
    "        # - find the missing numbers by comparing sets \n",
    "        # - sort the missing numbers, if any - dominates time complexity, not be ideal for large lists\n",
    "\n",
    "# Space Complexity O(n)     : stores the range, the set, and the missing numbers "
   ]
  },
  {
   "cell_type": "markdown",
   "metadata": {},
   "source": [
    "\n",
    "-   Critique your partner's solution, including explanation, and if there is anything that should be adjusted.\n"
   ]
  },
  {
   "cell_type": "code",
   "execution_count": null,
   "metadata": {},
   "outputs": [],
   "source": [
    "# It's a great straightforward solution.  We may be able to improve the time/space\n",
    "# complexity by using a boolean approach.  Instead of creating the full range of #'s and converting \n",
    "# to a set, we can identify the missing numbers and perform a traversal method.\n"
   ]
  },
  {
   "cell_type": "markdown",
   "metadata": {},
   "source": [
    "\n",
    "## Part 3:\n",
    "\n",
    "Please write a 200 word reflection documenting your process from assignment 1, and your presentation and review experience with your partner at the bottom of the Jupyter Notebook under a new heading \"Reflection.\" Again, export this Notebook as pdf.\n"
   ]
  },
  {
   "cell_type": "markdown",
   "metadata": {},
   "source": [
    "### Reflection"
   ]
  },
  {
   "cell_type": "markdown",
   "metadata": {},
   "source": [
    "Working on Assignment-1 and then reviewing Assignment-1 that was completed by a peer has been a constructive learning experience.\n",
    "\n",
    "For my Assignment-1, I was tasked with finding all possible paths from the root to the leaves/nodes of a tree.  To do this, I used Depth-First Search (DFS).  I took this approach because the method is similar to the tree structure itself and handles paths and backtracking well, while tracking all visited nodes/paths to eliminate possible duplicating.  I tested this multiple times to confirm different scenarios such as nodes without children, or trees that were not balanced.\n",
    "\n",
    "For Assignment-1 review of my peer's solution, it encouraged me to think about time, efficiency, and choice of methods.  As well as code clarity.  It's important for anyone to be able to read your code for transparency. \n",
    "\n",
    "In my review, I had to breakdown the time and space complexity which was insightful. Understanding what and how much each task contributes to this can help consider alternative solutions.  \n",
    "\n",
    "This was a fantastic exercise that has helped my critical thinking and possibly providing and alternative solution in a way that is constructive when addressing problems as a team.\n",
    "\n",
    "I'm looking forward to feedback that I'll be receiving for my Assignment-1.\n",
    "\n"
   ]
  },
  {
   "cell_type": "markdown",
   "metadata": {},
   "source": [
    "\n",
    "## Evaluation Criteria\n",
    "\n",
    "We are looking for the similar points as Assignment 1\n",
    "\n",
    "-   Problem is accurately stated\n",
    "\n",
    "-   New example is correct and easily understandable\n",
    "\n",
    "-   Correctness, time, and space complexity of the coding solution\n",
    "\n",
    "-   Clarity in explaining why the solution works, its time and space complexity\n",
    "\n",
    "-   Quality of critique of your partner's assignment, if necessary\n"
   ]
  },
  {
   "cell_type": "markdown",
   "metadata": {},
   "source": [
    "## Submission Information\n",
    "\n",
    "🚨 **Please review our [Assignment Submission Guide](https://github.com/UofT-DSI/onboarding/blob/main/onboarding_documents/submissions.md)** 🚨 for detailed instructions on how to format, branch, and submit your work. Following these guidelines is crucial for your submissions to be evaluated correctly.\n",
    "\n",
    "### Submission Parameters:\n",
    "* Submission Due Date: `HH:MM AM/PM - DD/MM/YYYY`\n",
    "* The branch name for your repo should be: `assignment-2`\n",
    "* What to submit for this assignment:\n",
    "    * This Jupyter Notebook (assignment_2.ipynb) should be populated and should be the only change in your pull request.\n",
    "* What the pull request link should look like for this assignment: `https://github.com/<your_github_username>/algorithms_and_data_structures/pull/<pr_id>`\n",
    "    * Open a private window in your browser. Copy and paste the link to your pull request into the address bar. Make sure you can see your pull request properly. This helps the technical facilitator and learning support staff review your submission easily.\n",
    "\n",
    "Checklist:\n",
    "- [ ] Created a branch with the correct naming convention.\n",
    "- [ ] Ensured that the repository is public.\n",
    "- [ ] Reviewed the PR description guidelines and adhered to them.\n",
    "- [ ] Verify that the link is accessible in a private browser window.\n",
    "\n",
    "If you encounter any difficulties or have questions, please don't hesitate to reach out to our team via our Slack at `#cohort-3-help`. Our Technical Facilitators and Learning Support staff are here to help you navigate any challenges.\n"
   ]
  }
 ],
 "metadata": {
  "language_info": {
   "name": "python"
  }
 },
 "nbformat": 4,
 "nbformat_minor": 2
}
